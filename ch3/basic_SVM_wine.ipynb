{
  "nbformat": 4,
  "nbformat_minor": 0,
  "metadata": {
    "colab": {
      "name": "basic_SVM_wine.ipynb",
      "provenance": [],
      "authorship_tag": "ABX9TyPzpt29IKFOMCZpfGTI/k3w",
      "include_colab_link": true
    },
    "kernelspec": {
      "name": "python3",
      "display_name": "Python 3"
    },
    "language_info": {
      "name": "python"
    }
  },
  "cells": [
    {
      "cell_type": "markdown",
      "metadata": {
        "id": "view-in-github",
        "colab_type": "text"
      },
      "source": [
        "<a href=\"https://colab.research.google.com/github/cloudui/ml-by-example/blob/main/ch3/basic_SVM_wine.ipynb\" target=\"_parent\"><img src=\"https://colab.research.google.com/assets/colab-badge.svg\" alt=\"Open In Colab\"/></a>"
      ]
    },
    {
      "cell_type": "code",
      "metadata": {
        "id": "8qGlCUdcB3EP"
      },
      "source": [
        "from sklearn.datasets import load_wine"
      ],
      "execution_count": 1,
      "outputs": []
    },
    {
      "cell_type": "code",
      "metadata": {
        "id": "Clyfo22XB_sI"
      },
      "source": [
        "wine_data = load_wine()"
      ],
      "execution_count": 2,
      "outputs": []
    },
    {
      "cell_type": "code",
      "metadata": {
        "colab": {
          "base_uri": "https://localhost:8080/"
        },
        "id": "s93GhmtAFWIZ",
        "outputId": "847eba47-8279-4e37-a8ce-ce64bae038fb"
      },
      "source": [
        "X = wine_data.data\n",
        "Y = wine_data.target\n",
        "print('Input data size:', X.shape)\n",
        "print('Output data size: ', Y.shape)"
      ],
      "execution_count": 3,
      "outputs": [
        {
          "output_type": "stream",
          "name": "stdout",
          "text": [
            "Input data size: (178, 13)\n",
            "Output data size:  (178,)\n"
          ]
        }
      ]
    },
    {
      "cell_type": "code",
      "metadata": {
        "colab": {
          "base_uri": "https://localhost:8080/"
        },
        "id": "bme0MJrHFd51",
        "outputId": "4634cd1f-5045-4f67-d4b8-2e224682debd"
      },
      "source": [
        "print('Label names:', wine_data.target_names)"
      ],
      "execution_count": 4,
      "outputs": [
        {
          "output_type": "stream",
          "name": "stdout",
          "text": [
            "Label names: ['class_0' 'class_1' 'class_2']\n"
          ]
        }
      ]
    },
    {
      "cell_type": "code",
      "metadata": {
        "colab": {
          "base_uri": "https://localhost:8080/"
        },
        "id": "foQclCYTF6LK",
        "outputId": "62493811-d4d8-4199-d84e-350bf05298fa"
      },
      "source": [
        "n_class0 = (Y == 0).sum()\n",
        "n_class1 = (Y == 1).sum()\n",
        "n_class2 = (Y == 2).sum()\n",
        "print(f'{n_class0} class0 samples,\\n{n_class1} class1 samples,\\n{n_class2} class2 samples.')"
      ],
      "execution_count": 5,
      "outputs": [
        {
          "output_type": "stream",
          "name": "stdout",
          "text": [
            "59 class0 samples,\n",
            "71 class1 samples,\n",
            "48 class2 samples.\n"
          ]
        }
      ]
    },
    {
      "cell_type": "code",
      "metadata": {
        "id": "74abLA6_GOej"
      },
      "source": [
        "from sklearn.model_selection import train_test_split\n",
        "X_train, X_test, Y_train, Y_test = train_test_split(X, Y, random_state=42)"
      ],
      "execution_count": 6,
      "outputs": []
    },
    {
      "cell_type": "code",
      "metadata": {
        "colab": {
          "base_uri": "https://localhost:8080/"
        },
        "id": "wOvptsy0GdsA",
        "outputId": "b8e2f25b-6aa9-4936-b9b5-636bb4bc713a"
      },
      "source": [
        "from sklearn.svm import SVC\n",
        "clf = SVC(kernel='linear', C=1.0, random_state=42)\n",
        "clf.fit(X_train, Y_train)"
      ],
      "execution_count": 7,
      "outputs": [
        {
          "output_type": "execute_result",
          "data": {
            "text/plain": [
              "SVC(kernel='linear', random_state=42)"
            ]
          },
          "metadata": {},
          "execution_count": 7
        }
      ]
    },
    {
      "cell_type": "code",
      "metadata": {
        "colab": {
          "base_uri": "https://localhost:8080/"
        },
        "id": "N1yoCxBjG519",
        "outputId": "de7ca4e7-21c6-4d53-d8be-54903fe253e6"
      },
      "source": [
        "accuracy = clf.score(X_test, Y_test)\n",
        "print(f'The accuracy is: {accuracy*100:.1f}%')"
      ],
      "execution_count": 8,
      "outputs": [
        {
          "output_type": "stream",
          "name": "stdout",
          "text": [
            "The accuracy is: 97.8%\n"
          ]
        }
      ]
    },
    {
      "cell_type": "code",
      "metadata": {
        "colab": {
          "base_uri": "https://localhost:8080/"
        },
        "id": "Ur62BT7UHV8D",
        "outputId": "23b40865-dcfb-40a2-8518-f5dd2d94d0d2"
      },
      "source": [
        "from sklearn.metrics import classification_report\n",
        "pred = clf.predict(X_test)\n",
        "print(classification_report(Y_test, pred))"
      ],
      "execution_count": 9,
      "outputs": [
        {
          "output_type": "stream",
          "name": "stdout",
          "text": [
            "              precision    recall  f1-score   support\n",
            "\n",
            "           0       1.00      1.00      1.00        15\n",
            "           1       1.00      0.94      0.97        18\n",
            "           2       0.92      1.00      0.96        12\n",
            "\n",
            "    accuracy                           0.98        45\n",
            "   macro avg       0.97      0.98      0.98        45\n",
            "weighted avg       0.98      0.98      0.98        45\n",
            "\n"
          ]
        }
      ]
    }
  ]
}