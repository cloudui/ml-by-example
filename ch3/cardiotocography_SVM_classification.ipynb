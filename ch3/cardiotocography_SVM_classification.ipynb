{
  "nbformat": 4,
  "nbformat_minor": 0,
  "metadata": {
    "colab": {
      "name": "cardiotocography_SVM_classification.ipynb",
      "provenance": [],
      "authorship_tag": "ABX9TyNeOVm3uyZfFmYGrhvnHpPC",
      "include_colab_link": true
    },
    "kernelspec": {
      "name": "python3",
      "display_name": "Python 3"
    },
    "language_info": {
      "name": "python"
    }
  },
  "cells": [
    {
      "cell_type": "markdown",
      "metadata": {
        "id": "view-in-github",
        "colab_type": "text"
      },
      "source": [
        "<a href=\"https://colab.research.google.com/github/cloudui/ml-by-example/blob/main/ch3/cardiotocography_SVM_classification.ipynb\" target=\"_parent\"><img src=\"https://colab.research.google.com/assets/colab-badge.svg\" alt=\"Open In Colab\"/></a>"
      ]
    },
    {
      "cell_type": "markdown",
      "metadata": {
        "id": "UyGB86aUL4yW"
      },
      "source": [
        "# Fetal state classification on cardiotocography"
      ]
    },
    {
      "cell_type": "markdown",
      "metadata": {
        "id": "KQb461xaMBAZ"
      },
      "source": [
        "## Step 1: Fetching data and preprocessing"
      ]
    },
    {
      "cell_type": "code",
      "metadata": {
        "colab": {
          "base_uri": "https://localhost:8080/"
        },
        "id": "RNJIQvZoHYlI",
        "outputId": "9ebc0960-9bf1-4e15-faec-9be7a7ed6c43"
      },
      "source": [
        "!curl -o CTG.xls https://archive.ics.uci.edu/ml/machine-learning-databases/00193/CTG.xls"
      ],
      "execution_count": 2,
      "outputs": [
        {
          "output_type": "stream",
          "name": "stdout",
          "text": [
            "  % Total    % Received % Xferd  Average Speed   Time    Time     Time  Current\n",
            "                                 Dload  Upload   Total   Spent    Left  Speed\n",
            "100 1703k  100 1703k    0     0  2046k      0 --:--:-- --:--:-- --:--:-- 2044k\n"
          ]
        }
      ]
    },
    {
      "cell_type": "code",
      "metadata": {
        "id": "L_KTmqCRGZmN"
      },
      "source": [
        "import pandas as pd\n",
        "\n",
        "# Reading excel sheet into a DataFrame\n",
        "df = pd.read_excel('CTG.xls', \"Raw Data\")"
      ],
      "execution_count": 3,
      "outputs": []
    },
    {
      "cell_type": "code",
      "metadata": {
        "colab": {
          "base_uri": "https://localhost:8080/"
        },
        "id": "VqN_nyloHB1h",
        "outputId": "8112bfb4-81aa-426f-bc66-aabaee76d39a"
      },
      "source": [
        "print(df)"
      ],
      "execution_count": 6,
      "outputs": [
        {
          "output_type": "stream",
          "name": "stdout",
          "text": [
            "          FileName       Date      SegFile       b  ...   FS  SUSP  CLASS  NSP\n",
            "0              NaN        NaT          NaN     NaN  ...  NaN   NaN    NaN  NaN\n",
            "1     Variab10.txt 1996-12-01  CTG0001.txt   240.0  ...  1.0   0.0    9.0  2.0\n",
            "2       Fmcs_1.txt 1996-05-03  CTG0002.txt     5.0  ...  0.0   0.0    6.0  1.0\n",
            "3       Fmcs_1.txt 1996-05-03  CTG0003.txt   177.0  ...  0.0   0.0    6.0  1.0\n",
            "4       Fmcs_1.txt 1996-05-03  CTG0004.txt   411.0  ...  0.0   0.0    6.0  1.0\n",
            "...            ...        ...          ...     ...  ...  ...   ...    ...  ...\n",
            "2125  S8001045.dsp 1998-06-06  CTG2127.txt  1576.0  ...  0.0   0.0    5.0  2.0\n",
            "2126  S8001045.dsp 1998-06-06  CTG2128.txt  2796.0  ...  0.0   0.0    1.0  1.0\n",
            "2127           NaN        NaT          NaN     NaN  ...  NaN   NaN    NaN  NaN\n",
            "2128           NaN        NaT          NaN     NaN  ...  NaN   NaN    NaN  NaN\n",
            "2129           NaN        NaT          NaN     NaN  ...  NaN   NaN    NaN  NaN\n",
            "\n",
            "[2130 rows x 40 columns]\n"
          ]
        }
      ]
    },
    {
      "cell_type": "markdown",
      "metadata": {
        "id": "AKNQoAebMxXL"
      },
      "source": [
        "Taking the right columns as input features and using the last column as the label. There are some rows not used."
      ]
    },
    {
      "cell_type": "code",
      "metadata": {
        "id": "Y4BUQNkxG93O"
      },
      "source": [
        "X = df.iloc[1:2126, 3:-2].values\n",
        "Y = df.iloc[1:2126, -1].values"
      ],
      "execution_count": 15,
      "outputs": []
    },
    {
      "cell_type": "markdown",
      "metadata": {
        "id": "egCWd8oRM8Lh"
      },
      "source": [
        "Printing out distribution between classes"
      ]
    },
    {
      "cell_type": "code",
      "metadata": {
        "colab": {
          "base_uri": "https://localhost:8080/"
        },
        "id": "QCFsKlX2Io1S",
        "outputId": "98fbdfea-7bfd-4f1d-bed6-7a7d3b15b467"
      },
      "source": [
        "from collections import Counter\n",
        "\n",
        "print(Counter(Y))"
      ],
      "execution_count": 18,
      "outputs": [
        {
          "output_type": "stream",
          "name": "stdout",
          "text": [
            "Counter({1.0: 1654, 2.0: 295, 3.0: 176})\n"
          ]
        }
      ]
    },
    {
      "cell_type": "markdown",
      "metadata": {
        "id": "ak3B8UuCNCHz"
      },
      "source": [
        "## Step 2: Model training and tuning"
      ]
    },
    {
      "cell_type": "markdown",
      "metadata": {
        "id": "wtV5TtzwM-tO"
      },
      "source": [
        "Splitting into training and test sets"
      ]
    },
    {
      "cell_type": "code",
      "metadata": {
        "id": "gGYmhjHvIuBL"
      },
      "source": [
        "from sklearn.model_selection import train_test_split\n",
        "\n",
        "X_train, X_test, Y_train, Y_test = train_test_split(X, Y, test_size=0.2, random_state=42)"
      ],
      "execution_count": 19,
      "outputs": []
    },
    {
      "cell_type": "markdown",
      "metadata": {
        "id": "3VLMFbnBNHZq"
      },
      "source": [
        "GridSearchCV to optimize hyperparameters. Realize that 'balanced' mode should not be used because the labels are not balanced in reality. "
      ]
    },
    {
      "cell_type": "code",
      "metadata": {
        "colab": {
          "base_uri": "https://localhost:8080/"
        },
        "id": "5lHVyrCPJP4w",
        "outputId": "ea40b7d2-f7de-4643-d6bf-898bb86a83cb"
      },
      "source": [
        "from sklearn.svm import SVC\n",
        "from sklearn.model_selection import GridSearchCV\n",
        "\n",
        "svc = SVC(kernel='rbf')\n",
        "parameters = {'C': (100, 1e3, 1e4, 1e5),\n",
        "              'gamma': (1e-08, 1e-7, 1e-6, 1e-5)}\n",
        "grid_search = GridSearchCV(svc, parameters, n_jobs=-1, cv=5)\n",
        "grid_search.fit(X_train, Y_train)"
      ],
      "execution_count": 33,
      "outputs": [
        {
          "output_type": "execute_result",
          "data": {
            "text/plain": [
              "GridSearchCV(cv=5, estimator=SVC(), n_jobs=-1,\n",
              "             param_grid={'C': (100, 1000.0, 10000.0, 100000.0),\n",
              "                         'gamma': (1e-08, 1e-07, 1e-06, 1e-05)})"
            ]
          },
          "metadata": {},
          "execution_count": 33
        }
      ]
    },
    {
      "cell_type": "markdown",
      "metadata": {
        "id": "9AwANGUoNS1Q"
      },
      "source": [
        "## Step 3: Model testing and testing accuracy"
      ]
    },
    {
      "cell_type": "code",
      "metadata": {
        "colab": {
          "base_uri": "https://localhost:8080/"
        },
        "id": "BDoLSG4HJ4Jm",
        "outputId": "3fbf603f-6dbe-43f3-b6b8-d5fdbdbfeff0"
      },
      "source": [
        "print(grid_search.best_params_)\n",
        "print(grid_search.best_score_)"
      ],
      "execution_count": 34,
      "outputs": [
        {
          "output_type": "stream",
          "name": "stdout",
          "text": [
            "{'C': 100000.0, 'gamma': 1e-07}\n",
            "0.9541176470588235\n"
          ]
        }
      ]
    },
    {
      "cell_type": "code",
      "metadata": {
        "colab": {
          "base_uri": "https://localhost:8080/"
        },
        "id": "pdxtebSXJ5LZ",
        "outputId": "7629b1be-20ac-4f4a-ad1f-ddfe90993d16"
      },
      "source": [
        "svc_best = grid_search.best_estimator_\n",
        "accuracy = svc_best.score(X_test, Y_test)\n",
        "print(f'The accuracy is: {accuracy*100:.1f}%')"
      ],
      "execution_count": 35,
      "outputs": [
        {
          "output_type": "stream",
          "name": "stdout",
          "text": [
            "The accuracy is: 95.5%\n"
          ]
        }
      ]
    },
    {
      "cell_type": "markdown",
      "metadata": {
        "id": "D5hzLsvkNYnc"
      },
      "source": [
        "Printing out relevant metrics with classification report."
      ]
    },
    {
      "cell_type": "code",
      "metadata": {
        "colab": {
          "base_uri": "https://localhost:8080/"
        },
        "id": "scgfvnI4KgBb",
        "outputId": "8b6e9dc0-3ce7-4b9a-c7c8-df6aa9b17952"
      },
      "source": [
        "from sklearn.metrics import classification_report\n",
        "\n",
        "prediction = svc_best.predict(X_test)\n",
        "report = classification_report(Y_test, prediction)\n",
        "print(report)"
      ],
      "execution_count": 36,
      "outputs": [
        {
          "output_type": "stream",
          "name": "stdout",
          "text": [
            "              precision    recall  f1-score   support\n",
            "\n",
            "         1.0       0.96      0.98      0.97       324\n",
            "         2.0       0.89      0.91      0.90        65\n",
            "         3.0       1.00      0.78      0.88        36\n",
            "\n",
            "    accuracy                           0.96       425\n",
            "   macro avg       0.95      0.89      0.92       425\n",
            "weighted avg       0.96      0.96      0.95       425\n",
            "\n"
          ]
        }
      ]
    },
    {
      "cell_type": "code",
      "metadata": {
        "id": "xzQ5LOFDNbAf"
      },
      "source": [
        ""
      ],
      "execution_count": null,
      "outputs": []
    }
  ]
}