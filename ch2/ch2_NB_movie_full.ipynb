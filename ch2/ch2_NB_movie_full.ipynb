{
  "nbformat": 4,
  "nbformat_minor": 0,
  "metadata": {
    "colab": {
      "name": "ch2_NB_movie_full.ipynb",
      "provenance": [],
      "collapsed_sections": [],
      "authorship_tag": "ABX9TyNNB9dtWHfBpXSRzwK/muqu",
      "include_colab_link": true
    },
    "kernelspec": {
      "name": "python3",
      "display_name": "Python 3"
    },
    "language_info": {
      "name": "python"
    }
  },
  "cells": [
    {
      "cell_type": "markdown",
      "metadata": {
        "id": "view-in-github",
        "colab_type": "text"
      },
      "source": [
        "<a href=\"https://colab.research.google.com/github/cloudui/ml-by-example/blob/main/ch2/ch2_NB_movie_full.ipynb\" target=\"_parent\"><img src=\"https://colab.research.google.com/assets/colab-badge.svg\" alt=\"Open In Colab\"/></a>"
      ]
    },
    {
      "cell_type": "code",
      "metadata": {
        "id": "BHwSfVcxZyQ0"
      },
      "source": [
        ""
      ],
      "execution_count": 2,
      "outputs": []
    },
    {
      "cell_type": "markdown",
      "metadata": {
        "id": "rvmphfXwSkd9"
      },
      "source": [
        "# Movie Recommendation Engine Using Naive Bayes\n"
      ]
    },
    {
      "cell_type": "markdown",
      "metadata": {
        "id": "hNhlBORpSo3k"
      },
      "source": [
        "## File download and organization"
      ]
    },
    {
      "cell_type": "code",
      "metadata": {
        "id": "UYNsiLhmnV9y"
      },
      "source": [
        "import urllib.request"
      ],
      "execution_count": 3,
      "outputs": []
    },
    {
      "cell_type": "code",
      "metadata": {
        "colab": {
          "base_uri": "https://localhost:8080/"
        },
        "id": "RHfaZcZXpREa",
        "outputId": "6bc6f8a7-cdcd-4c0e-9513-52fe93644f90"
      },
      "source": [
        "urllib.request.urlretrieve('https://files.grouplens.org/datasets/movielens/ml-1m.zip', 'data.zip')"
      ],
      "execution_count": 4,
      "outputs": [
        {
          "output_type": "execute_result",
          "data": {
            "text/plain": [
              "('data.zip', <http.client.HTTPMessage at 0x7ff963279f10>)"
            ]
          },
          "metadata": {},
          "execution_count": 4
        }
      ]
    },
    {
      "cell_type": "code",
      "metadata": {
        "colab": {
          "base_uri": "https://localhost:8080/"
        },
        "id": "1Mns1_WXppec",
        "outputId": "57baa36d-a1ab-4a66-fa28-54144d53b0af"
      },
      "source": [
        "!unzip data.zip\n",
        "!rm data.zip"
      ],
      "execution_count": 5,
      "outputs": [
        {
          "output_type": "stream",
          "name": "stdout",
          "text": [
            "Archive:  data.zip\n",
            "   creating: ml-1m/\n",
            "  inflating: ml-1m/movies.dat        \n",
            "  inflating: ml-1m/ratings.dat       \n",
            "  inflating: ml-1m/README            \n",
            "  inflating: ml-1m/users.dat         \n"
          ]
        }
      ]
    },
    {
      "cell_type": "markdown",
      "metadata": {
        "id": "Cl_ZkPd4S0WL"
      },
      "source": [
        "## Data preprocessing"
      ]
    },
    {
      "cell_type": "code",
      "metadata": {
        "id": "j4CISAH5pw83"
      },
      "source": [
        "import numpy as np\n",
        "from collections import defaultdict"
      ],
      "execution_count": 6,
      "outputs": []
    },
    {
      "cell_type": "code",
      "metadata": {
        "id": "X4x1vP_mqReB"
      },
      "source": [
        "data_path = 'ml-1m/ratings.dat'\n",
        "n_users = 6040\n",
        "n_movies = 3706"
      ],
      "execution_count": 7,
      "outputs": []
    },
    {
      "cell_type": "code",
      "metadata": {
        "id": "9RW2jPifqtpq"
      },
      "source": [
        "def load_rating_data(data_path, n_users, n_movies):\n",
        "\n",
        "  data = np.zeros([n_users, n_movies], dtype=np.float32)\n",
        "  movie_id_mapping = {}\n",
        "\n",
        "  movie_n_rating = defaultdict(int)\n",
        "\n",
        "  with open(data_path, 'r') as file:\n",
        "    for line in file.readlines()[1: ]:\n",
        "      user_id, movie_id, rating, _ = line.split(\"::\")\n",
        "      user_id = int(user_id) - 1\n",
        "      if movie_id not in movie_id_mapping:\n",
        "        movie_id_mapping[movie_id] = len(movie_id_mapping)\n",
        "      rating = int(rating)\n",
        "      data[user_id, movie_id_mapping[movie_id]] = rating\n",
        "      if rating > 0:\n",
        "        movie_n_rating[movie_id] += 1\n",
        "  return data, movie_n_rating, movie_id_mapping"
      ],
      "execution_count": 8,
      "outputs": []
    },
    {
      "cell_type": "code",
      "metadata": {
        "id": "VFjJHzLL-alc"
      },
      "source": [
        "data, movie_n_rating, movie_id_mapping = load_rating_data(data_path, n_users, n_movies)"
      ],
      "execution_count": 9,
      "outputs": []
    },
    {
      "cell_type": "code",
      "metadata": {
        "id": "ajCJCPEHyHb8"
      },
      "source": [
        "def display_distribution(data):\n",
        "  values, counts = np.unique(data, return_counts=True)\n",
        "  for value, count in zip(values, counts):\n",
        "    print(f'Number of rating {int(value)}: {count}')"
      ],
      "execution_count": 10,
      "outputs": []
    },
    {
      "cell_type": "code",
      "metadata": {
        "colab": {
          "base_uri": "https://localhost:8080/"
        },
        "id": "HXeinn83ybMA",
        "outputId": "9a875b23-8a68-4206-b663-8f8ee950b558"
      },
      "source": [
        "display_distribution(data)"
      ],
      "execution_count": 11,
      "outputs": [
        {
          "output_type": "stream",
          "name": "stdout",
          "text": [
            "Number of rating 0: 21384032\n",
            "Number of rating 1: 56174\n",
            "Number of rating 2: 107557\n",
            "Number of rating 3: 261197\n",
            "Number of rating 4: 348971\n",
            "Number of rating 5: 226309\n"
          ]
        }
      ]
    },
    {
      "cell_type": "code",
      "metadata": {
        "colab": {
          "base_uri": "https://localhost:8080/"
        },
        "id": "cnJe21ANzTlm",
        "outputId": "7266768b-b259-404e-dbe3-17adf60808c8"
      },
      "source": [
        "movie_id_most, n_rating_most = sorted(movie_n_rating.items(), key = lambda d: d[1], reverse=True)[0]\n",
        "print(f'Movie ID {movie_id_most} has {n_rating_most} ratings.')"
      ],
      "execution_count": 12,
      "outputs": [
        {
          "output_type": "stream",
          "name": "stdout",
          "text": [
            "Movie ID 2858 has 3428 ratings.\n"
          ]
        }
      ]
    },
    {
      "cell_type": "code",
      "metadata": {
        "id": "ys9Kd_6LzitX"
      },
      "source": [
        "X_raw = np.delete(data, movie_id_mapping[movie_id_most], axis=1)\n",
        "Y_raw = data[:, movie_id_mapping[movie_id_most]]"
      ],
      "execution_count": 13,
      "outputs": []
    },
    {
      "cell_type": "code",
      "metadata": {
        "id": "AS1jYOKi0p3e"
      },
      "source": [
        "X = X_raw[Y_raw > 0]\n",
        "Y = Y_raw[Y_raw > 0]"
      ],
      "execution_count": 14,
      "outputs": []
    },
    {
      "cell_type": "code",
      "metadata": {
        "colab": {
          "base_uri": "https://localhost:8080/"
        },
        "id": "afSK23h11sW8",
        "outputId": "fd40bae7-01cc-4def-d3eb-b8644d8a59e3"
      },
      "source": [
        "print('Shape of X:', X.shape)\n",
        "print('Shape of Y:', Y.shape)"
      ],
      "execution_count": 15,
      "outputs": [
        {
          "output_type": "stream",
          "name": "stdout",
          "text": [
            "Shape of X: (3428, 3705)\n",
            "Shape of Y: (3428,)\n"
          ]
        }
      ]
    },
    {
      "cell_type": "code",
      "metadata": {
        "colab": {
          "base_uri": "https://localhost:8080/"
        },
        "id": "GKs2zgn82BoQ",
        "outputId": "bbaf3f11-3016-4235-f271-181e732212a7"
      },
      "source": [
        "display_distribution(Y)"
      ],
      "execution_count": 16,
      "outputs": [
        {
          "output_type": "stream",
          "name": "stdout",
          "text": [
            "Number of rating 1: 83\n",
            "Number of rating 2: 134\n",
            "Number of rating 3: 358\n",
            "Number of rating 4: 890\n",
            "Number of rating 5: 1963\n"
          ]
        }
      ]
    },
    {
      "cell_type": "code",
      "metadata": {
        "id": "OWKmdf9F2QH9",
        "colab": {
          "base_uri": "https://localhost:8080/"
        },
        "outputId": "dd8e4656-f1ef-4af3-abd7-68036df52dfb"
      },
      "source": [
        "recommend = 3\n",
        "Y[Y <= recommend] = 0\n",
        "Y[Y > recommend] = 1\n",
        "n_pos = (Y == 1).sum()\n",
        "n_neg = (Y == 0).sum()\n",
        "\n",
        "print(f'{n_pos} positive samples and {n_neg} negative samples.')"
      ],
      "execution_count": 17,
      "outputs": [
        {
          "output_type": "stream",
          "name": "stdout",
          "text": [
            "2853 positive samples and 575 negative samples.\n"
          ]
        }
      ]
    },
    {
      "cell_type": "markdown",
      "metadata": {
        "id": "hi3mgIosS9Mx"
      },
      "source": [
        "## Model Training"
      ]
    },
    {
      "cell_type": "code",
      "metadata": {
        "id": "SVvDtiVpBDyF"
      },
      "source": [
        "from sklearn.model_selection import train_test_split"
      ],
      "execution_count": 18,
      "outputs": []
    },
    {
      "cell_type": "code",
      "metadata": {
        "colab": {
          "base_uri": "https://localhost:8080/"
        },
        "id": "REx1dOpGCITW",
        "outputId": "2b09a1ed-2428-4f52-d0b4-1ec003708f9f"
      },
      "source": [
        "X_train, X_test, Y_train, Y_test = train_test_split(X, Y, test_size=0.2, random_state=42)\n",
        "print(len(Y_train), len(Y_test))"
      ],
      "execution_count": 19,
      "outputs": [
        {
          "output_type": "stream",
          "name": "stdout",
          "text": [
            "2742 686\n"
          ]
        }
      ]
    },
    {
      "cell_type": "code",
      "metadata": {
        "id": "osyNq2fxCYSC"
      },
      "source": [
        "from sklearn.naive_bayes import MultinomialNB"
      ],
      "execution_count": 20,
      "outputs": []
    },
    {
      "cell_type": "code",
      "metadata": {
        "colab": {
          "base_uri": "https://localhost:8080/"
        },
        "id": "wVWY70xgCsXb",
        "outputId": "5b2c983e-4d15-43c8-d7cd-8b4b230ecbd5"
      },
      "source": [
        "clf = MultinomialNB(alpha=1.0, fit_prior=True)\n",
        "clf.fit(X_train, Y_train)"
      ],
      "execution_count": 21,
      "outputs": [
        {
          "output_type": "execute_result",
          "data": {
            "text/plain": [
              "MultinomialNB()"
            ]
          },
          "metadata": {},
          "execution_count": 21
        }
      ]
    },
    {
      "cell_type": "code",
      "metadata": {
        "id": "cpwoNhAtC0OX"
      },
      "source": [
        "prediction_prob = clf.predict_proba(X_test)"
      ],
      "execution_count": 22,
      "outputs": []
    },
    {
      "cell_type": "code",
      "metadata": {
        "colab": {
          "base_uri": "https://localhost:8080/"
        },
        "id": "660w919ZDukD",
        "outputId": "ec1316a7-f92c-49d6-ee6f-e66b11e37c9e"
      },
      "source": [
        "prediction_prob[0:10]"
      ],
      "execution_count": 23,
      "outputs": [
        {
          "output_type": "execute_result",
          "data": {
            "text/plain": [
              "array([[7.50487439e-23, 1.00000000e+00],\n",
              "       [1.01806208e-01, 8.98193792e-01],\n",
              "       [3.57740570e-10, 1.00000000e+00],\n",
              "       [1.00000000e+00, 2.94095407e-16],\n",
              "       [1.00000000e+00, 2.49760836e-25],\n",
              "       [7.62630220e-01, 2.37369780e-01],\n",
              "       [3.47479627e-05, 9.99965252e-01],\n",
              "       [2.66075292e-11, 1.00000000e+00],\n",
              "       [5.88493563e-10, 9.99999999e-01],\n",
              "       [9.71326867e-09, 9.99999990e-01]])"
            ]
          },
          "metadata": {},
          "execution_count": 23
        }
      ]
    },
    {
      "cell_type": "code",
      "metadata": {
        "colab": {
          "base_uri": "https://localhost:8080/"
        },
        "id": "5P9dAq8BD2CG",
        "outputId": "6b28caf0-43f6-47e0-eeb0-fe4a13132b46"
      },
      "source": [
        "prediction = clf.predict(X_test)\n",
        "prediction[0:10]"
      ],
      "execution_count": 24,
      "outputs": [
        {
          "output_type": "execute_result",
          "data": {
            "text/plain": [
              "array([1., 1., 1., 0., 0., 0., 1., 1., 1., 1.], dtype=float32)"
            ]
          },
          "metadata": {},
          "execution_count": 24
        }
      ]
    },
    {
      "cell_type": "markdown",
      "metadata": {
        "id": "3gTSEwQrSfPf"
      },
      "source": [
        "## Metrics and Results of Model"
      ]
    },
    {
      "cell_type": "code",
      "metadata": {
        "colab": {
          "base_uri": "https://localhost:8080/"
        },
        "id": "RCyiRUorEFd9",
        "outputId": "7c524dff-ad16-40cb-a7d9-9f7c7b061a51"
      },
      "source": [
        "accuracy = clf.score(X_test, Y_test)\n",
        "print(f'The accuracy of the model is: {accuracy*100:.1f}%')"
      ],
      "execution_count": 25,
      "outputs": [
        {
          "output_type": "stream",
          "name": "stdout",
          "text": [
            "The accuracy of the model is: 71.6%\n"
          ]
        }
      ]
    },
    {
      "cell_type": "code",
      "metadata": {
        "id": "CYI_3ESqES7E"
      },
      "source": [
        "from sklearn.metrics import confusion_matrix, precision_score, recall_score, f1_score, classification_report"
      ],
      "execution_count": 26,
      "outputs": []
    },
    {
      "cell_type": "code",
      "metadata": {
        "colab": {
          "base_uri": "https://localhost:8080/"
        },
        "id": "ZnnmLYkzJYJB",
        "outputId": "f31c0648-038e-4dcf-dd1a-1da1e33590e2"
      },
      "source": [
        "print(confusion_matrix(Y_test, prediction, labels=[0, 1]))\n",
        "print(precision_score(Y_test, prediction, pos_label=1))\n",
        "print(recall_score(Y_test, prediction, pos_label=1))\n",
        "print(f1_score(Y_test, prediction, pos_label=1))"
      ],
      "execution_count": 27,
      "outputs": [
        {
          "output_type": "stream",
          "name": "stdout",
          "text": [
            "[[ 60  47]\n",
            " [148 431]]\n",
            "0.9016736401673641\n",
            "0.7443868739205527\n",
            "0.815515610217597\n"
          ]
        }
      ]
    },
    {
      "cell_type": "code",
      "metadata": {
        "colab": {
          "base_uri": "https://localhost:8080/"
        },
        "id": "baeFU-2jSTQa",
        "outputId": "0d395aed-ce0a-4444-d7c3-334168e05d39"
      },
      "source": [
        "print(classification_report(Y_test, prediction))"
      ],
      "execution_count": 28,
      "outputs": [
        {
          "output_type": "stream",
          "name": "stdout",
          "text": [
            "              precision    recall  f1-score   support\n",
            "\n",
            "         0.0       0.29      0.56      0.38       107\n",
            "         1.0       0.90      0.74      0.82       579\n",
            "\n",
            "    accuracy                           0.72       686\n",
            "   macro avg       0.60      0.65      0.60       686\n",
            "weighted avg       0.81      0.72      0.75       686\n",
            "\n"
          ]
        }
      ]
    },
    {
      "cell_type": "code",
      "metadata": {
        "id": "HO8l1YfMJcXp"
      },
      "source": [
        "pos_prob = prediction_prob[:, 1]\n",
        "thresholds = np.arange(0.0, 1.1, 0.05)\n",
        "true_pos, false_pos = [0]*len(thresholds), [0]*len(thresholds)\n",
        "for pred, y in zip(pos_prob, Y_test):\n",
        "  for i, threshold in enumerate(thresholds):\n",
        "    if pred >= threshold:\n",
        "      if y == 1:\n",
        "        true_pos[i] += 1\n",
        "      else:\n",
        "        false_pos[i] += 1\n",
        "    else:\n",
        "      break"
      ],
      "execution_count": 29,
      "outputs": []
    },
    {
      "cell_type": "code",
      "metadata": {
        "id": "vCWDZAWKjJPI"
      },
      "source": [
        "n_pos_test = (Y_test == 1).sum()\n",
        "n_neg_test = (Y_test == 0).sum()"
      ],
      "execution_count": 30,
      "outputs": []
    },
    {
      "cell_type": "code",
      "metadata": {
        "id": "1uL4QOcsjXcN"
      },
      "source": [
        "true_pos_rate = [tp / n_pos_test for tp in true_pos]\n",
        "false_pos_rate = [fp / n_neg_test for fp in false_pos]"
      ],
      "execution_count": 31,
      "outputs": []
    },
    {
      "cell_type": "code",
      "metadata": {
        "colab": {
          "base_uri": "https://localhost:8080/",
          "height": 314
        },
        "id": "Fq7X_XL0jlqG",
        "outputId": "f5e6728a-8d5d-4eb0-cb07-762ce481815d"
      },
      "source": [
        "import matplotlib.pyplot as plt\n",
        "\n",
        "plt.figure()\n",
        "lw = 2\n",
        "plt.plot(false_pos_rate, true_pos_rate, color='darkorange', lw=lw)\n",
        "plt.plot([0, 1], [0, 1], color='navy', lw=lw, linestyle='--')\n",
        "plt.xlim([0.0, 1.0])\n",
        "plt.ylim([0.0, 1.05])\n",
        "plt.xlabel('False Positive Rate')\n",
        "plt.ylabel('True Positive Rate')\n",
        "plt.title('Receiver Operating Characteristic')\n",
        "plt.legend(loc=\"lower right\")\n",
        "plt.show()"
      ],
      "execution_count": 32,
      "outputs": [
        {
          "output_type": "stream",
          "name": "stderr",
          "text": [
            "No handles with labels found to put in legend.\n"
          ]
        },
        {
          "output_type": "display_data",
          "data": {
            "image/png": "[encoded data removed]",
            "text/plain": [
              "<Figure size 432x288 with 1 Axes>"
            ]
          },
          "metadata": {
            "needs_background": "light"
          }
        }
      ]
    },
    {
      "cell_type": "code",
      "metadata": {
        "id": "Mv-RnGNQkAT3"
      },
      "source": [
        "# 0 percent happening when the threshold is 1.05 (impossible)"
      ],
      "execution_count": 33,
      "outputs": []
    },
    {
      "cell_type": "code",
      "metadata": {
        "colab": {
          "base_uri": "https://localhost:8080/"
        },
        "id": "T7o1XMqkms5C",
        "outputId": "03408017-5527-4ef7-b294-9894b008af3d"
      },
      "source": [
        "from sklearn.metrics import roc_auc_score\n",
        "roc_auc_score(Y_test, pos_prob)"
      ],
      "execution_count": 34,
      "outputs": [
        {
          "output_type": "execute_result",
          "data": {
            "text/plain": [
              "0.6857375752586637"
            ]
          },
          "metadata": {},
          "execution_count": 34
        }
      ]
    },
    {
      "cell_type": "markdown",
      "metadata": {
        "id": "2lGOvGCgRa81"
      },
      "source": [
        "# Tuning models with cross-validation"
      ]
    },
    {
      "cell_type": "code",
      "metadata": {
        "id": "BQNJhh49m5J8"
      },
      "source": [
        "from sklearn.model_selection import StratifiedKFold\n",
        "k = 5\n",
        "k_fold = StratifiedKFold(n_splits=k, shuffle=True, random_state=42)"
      ],
      "execution_count": 35,
      "outputs": []
    },
    {
      "cell_type": "code",
      "metadata": {
        "id": "O1L4prLyT87O"
      },
      "source": [
        "smoothing_factor_option = [1, 2, 3, 4, 5, 6]\n",
        "fit_prior_option = [True, False]\n",
        "auc_record = {}"
      ],
      "execution_count": 36,
      "outputs": []
    },
    {
      "cell_type": "code",
      "metadata": {
        "id": "RufvnSAHUTPq"
      },
      "source": [
        "for train_indices, test_indices in k_fold.split(X, Y):\n",
        "  X_train, X_test = X[train_indices], X[test_indices]\n",
        "  Y_train, Y_test = Y[train_indices], Y[test_indices]\n",
        "  for alpha in smoothing_factor_option:\n",
        "    if alpha not in auc_record:\n",
        "      auc_record[alpha] = {}\n",
        "    for fit_prior in fit_prior_option:\n",
        "      clf = MultinomialNB(alpha=alpha, fit_prior=fit_prior)\n",
        "      clf.fit(X_train, Y_train)\n",
        "      prediction_prob = clf.predict_proba(X_test)\n",
        "      pos_prob = prediction_prob[:, 1]\n",
        "      auc = roc_auc_score(Y_test, pos_prob)\n",
        "      auc_record[alpha][fit_prior] = auc + auc_record[alpha].get(fit_prior, 0.0)\n"
      ],
      "execution_count": 37,
      "outputs": []
    },
    {
      "cell_type": "code",
      "metadata": {
        "colab": {
          "base_uri": "https://localhost:8080/"
        },
        "id": "RMPyLoo_Udyt",
        "outputId": "73b5c34b-f636-48df-8f28-267ada75dd96"
      },
      "source": [
        "items = []\n",
        "for smoothing, smoothing_record in auc_record.items():\n",
        "  for fit_prior, auc in smoothing_record.items():\n",
        "    items.append((fit_prior, auc, smoothing))\n",
        "    print(f'{smoothing}     {str(fit_prior):10}  {auc/k:.5f}') "
      ],
      "execution_count": 45,
      "outputs": [
        {
          "output_type": "stream",
          "name": "stdout",
          "text": [
            "1     True        0.65280\n",
            "1     False       0.65274\n",
            "2     True        0.65108\n",
            "2     False       0.65274\n",
            "3     True        0.65313\n",
            "3     False       0.65322\n",
            "4     True        0.65397\n",
            "4     False       0.65430\n",
            "5     True        0.65455\n",
            "5     False       0.65448\n",
            "6     True        0.65478\n",
            "6     False       0.65404\n"
          ]
        }
      ]
    },
    {
      "cell_type": "code",
      "metadata": {
        "colab": {
          "base_uri": "https://localhost:8080/"
        },
        "id": "lKJDnq8JWqwg",
        "outputId": "f40098b7-5053-4a62-c9a5-717edc1ee1f7"
      },
      "source": [
        "best_auc = sorted(items, key= lambda x: x[1])[-1]\n",
        "best_alpha = best_auc[2]\n",
        "best_fit = best_auc[0]\n",
        "\n",
        "clf = MultinomialNB(alpha=best_alpha, fit_prior=best_fit)\n",
        "clf.fit(X_train, Y_train)\n",
        "pos_prob = clf.predict_proba(X_test)[:, 1]\n",
        "print('AUC with the best model:', roc_auc_score(Y_test, pos_prob))"
      ],
      "execution_count": 46,
      "outputs": [
        {
          "output_type": "stream",
          "name": "stdout",
          "text": [
            "AUC with the best model: 0.6492982456140352\n"
          ]
        }
      ]
    }
  ]
}