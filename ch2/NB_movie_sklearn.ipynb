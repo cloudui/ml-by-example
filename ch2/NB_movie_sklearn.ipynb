{
  "nbformat": 4,
  "nbformat_minor": 0,
  "metadata": {
    "colab": {
      "name": "ch2_NB_movie_sklearn.ipynb",
      "provenance": [],
      "authorship_tag": "ABX9TyPsZIPOAtcPMqtfMAfT6d7G",
      "include_colab_link": true
    },
    "kernelspec": {
      "name": "python3",
      "display_name": "Python 3"
    },
    "language_info": {
      "name": "python"
    }
  },
  "cells": [
    {
      "cell_type": "markdown",
      "metadata": {
        "id": "view-in-github",
        "colab_type": "text"
      },
      "source": [
        "<a href=\"https://colab.research.google.com/github/cloudui/ml-by-example/blob/main/ch2/NB_movie_sklearn.ipynb\" target=\"_parent\"><img src=\"https://colab.research.google.com/assets/colab-badge.svg\" alt=\"Open In Colab\"/></a>"
      ]
    },
    {
      "cell_type": "markdown",
      "metadata": {
        "id": "beFnSfz9Dtlg"
      },
      "source": [
        "# Implementing a Basic Movie Recommendation Engine with Naive Bayes using Sci-kit Learn"
      ]
    },
    {
      "cell_type": "code",
      "metadata": {
        "id": "0XqeCy4-C1id"
      },
      "source": [
        "from sklearn.naive_bayes import BernoulliNB as BNB"
      ],
      "execution_count": null,
      "outputs": []
    },
    {
      "cell_type": "code",
      "metadata": {
        "id": "EtQCU60TEK1h"
      },
      "source": [
        "import numpy as np"
      ],
      "execution_count": null,
      "outputs": []
    },
    {
      "cell_type": "code",
      "metadata": {
        "id": "KXvtAXWdD3sN"
      },
      "source": [
        "X_train = np.array([\n",
        "    [0, 1, 1],\n",
        "    [0, 0, 1],\n",
        "    [0, 0, 0],\n",
        "    [1, 1, 0]])\n",
        "Y_train = ['Y', 'N', 'Y', 'Y']\n",
        "X_test = np.array([[1, 1, 0]])"
      ],
      "execution_count": null,
      "outputs": []
    },
    {
      "cell_type": "code",
      "metadata": {
        "id": "Yi6150QODCzC"
      },
      "source": [
        "# alpha represents the additive smoothing factor\n",
        "# prior learned from training set, not given\n",
        "clf = BNB(alpha=1.0, fit_prior=True)"
      ],
      "execution_count": null,
      "outputs": []
    },
    {
      "cell_type": "code",
      "metadata": {
        "colab": {
          "base_uri": "https://localhost:8080/"
        },
        "id": "ERVyafKeDUTe",
        "outputId": "1ce14c28-9475-48f8-aaee-62f964d0d4e2"
      },
      "source": [
        "# Training the data\n",
        "clf.fit(X_train, Y_train)"
      ],
      "execution_count": null,
      "outputs": [
        {
          "output_type": "execute_result",
          "data": {
            "text/plain": [
              "BernoulliNB(alpha=1.0, binarize=0.0, class_prior=None, fit_prior=True)"
            ]
          },
          "metadata": {},
          "execution_count": 7
        }
      ]
    },
    {
      "cell_type": "markdown",
      "metadata": {
        "id": "F0EZutSPEZH1"
      },
      "source": [
        "Getting the probabilities from Naive Bayes and obtaining the final prediction using the model."
      ]
    },
    {
      "cell_type": "code",
      "metadata": {
        "colab": {
          "base_uri": "https://localhost:8080/"
        },
        "id": "bBqsSgUqEO4h",
        "outputId": "5898e68d-2cb9-494c-c570-4be23c3da0bf"
      },
      "source": [
        "pred_prob = clf.predict_proba(X_test)\n",
        "pred_prob"
      ],
      "execution_count": null,
      "outputs": [
        {
          "output_type": "execute_result",
          "data": {
            "text/plain": [
              "array([[0.07896399, 0.92103601]])"
            ]
          },
          "metadata": {},
          "execution_count": 9
        }
      ]
    },
    {
      "cell_type": "code",
      "metadata": {
        "colab": {
          "base_uri": "https://localhost:8080/"
        },
        "id": "DbMRwCZsEU_1",
        "outputId": "d106fd29-99f9-4bc7-c691-1243183dd65d"
      },
      "source": [
        "pred = clf.predict(X_test)\n",
        "pred"
      ],
      "execution_count": null,
      "outputs": [
        {
          "output_type": "execute_result",
          "data": {
            "text/plain": [
              "array(['Y'], dtype='<U1')"
            ]
          },
          "metadata": {},
          "execution_count": 11
        }
      ]
    }
  ]
}